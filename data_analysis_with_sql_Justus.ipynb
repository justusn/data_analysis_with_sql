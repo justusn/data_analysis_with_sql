{
  "nbformat": 4,
  "nbformat_minor": 0,
  "metadata": {
    "colab": {
      "name": "data_analysis_with_sql_Justus.ipynb",
      "provenance": []
    },
    "kernelspec": {
      "name": "python3",
      "display_name": "Python 3"
    },
    "language_info": {
      "name": "python"
    }
  },
  "cells": [
    {
      "cell_type": "code",
      "execution_count": 8,
      "metadata": {
        "colab": {
          "base_uri": "https://localhost:8080/",
          "height": 70
        },
        "id": "gTFmSuwtlhYu",
        "outputId": "ee238d76-db0a-41d0-a702-04cbd204e69b"
      },
      "outputs": [
        {
          "output_type": "stream",
          "name": "stdout",
          "text": [
            "The sql extension is already loaded. To reload it, use:\n",
            "  %reload_ext sql\n"
          ]
        },
        {
          "output_type": "execute_result",
          "data": {
            "application/vnd.google.colaboratory.intrinsic+json": {
              "type": "string"
            },
            "text/plain": [
              "'Connected: @None'"
            ]
          },
          "metadata": {},
          "execution_count": 8
        }
      ],
      "source": [
        "%load_ext sql\n",
        "%sql sqlite://"
      ]
    },
    {
      "cell_type": "code",
      "source": [
        "import pandas as pd"
      ],
      "metadata": {
        "id": "az3BYR8TlwHX"
      },
      "execution_count": 2,
      "outputs": []
    },
    {
      "cell_type": "code",
      "source": [
        "rides = pd.read_csv('cab_rides.csv',header=0) \n",
        "\n"
      ],
      "metadata": {
        "id": "FAysPU0UlzxB"
      },
      "execution_count": 12,
      "outputs": []
    },
    {
      "cell_type": "code",
      "source": [
        "rides.shape"
      ],
      "metadata": {
        "colab": {
          "base_uri": "https://localhost:8080/"
        },
        "id": "FvZzUqg3wK7r",
        "outputId": "9de61873-f08c-4d77-b9f7-f186cd5ce752"
      },
      "execution_count": 13,
      "outputs": [
        {
          "output_type": "execute_result",
          "data": {
            "text/plain": [
              "(693071, 10)"
            ]
          },
          "metadata": {},
          "execution_count": 13
        }
      ]
    },
    {
      "cell_type": "code",
      "source": [
        "weather = pd.read_csv('weather.csv',header=0) "
      ],
      "metadata": {
        "id": "EClJurSbwEo2"
      },
      "execution_count": 14,
      "outputs": []
    },
    {
      "cell_type": "code",
      "source": [
        "weather.shape"
      ],
      "metadata": {
        "colab": {
          "base_uri": "https://localhost:8080/"
        },
        "id": "jdxNLXxBl-MK",
        "outputId": "fb3e64ca-140b-4e5e-cefb-3e503cc5a419"
      },
      "execution_count": 15,
      "outputs": [
        {
          "output_type": "execute_result",
          "data": {
            "text/plain": [
              "(6276, 8)"
            ]
          },
          "metadata": {},
          "execution_count": 15
        }
      ]
    },
    {
      "cell_type": "code",
      "source": [
        "%sql DROP TABLE if EXISTS rides;\n",
        "\n",
        "%sql PERSIST rides;\n",
        "\n",
        "%sql SELECT * FROM rides LIMIT 20;"
      ],
      "metadata": {
        "colab": {
          "base_uri": "https://localhost:8080/",
          "height": 892
        },
        "id": "qJWhWE05xI5z",
        "outputId": "025597c8-a166-40a1-f17b-c763d2fadc92"
      },
      "execution_count": 16,
      "outputs": [
        {
          "output_type": "stream",
          "name": "stdout",
          "text": [
            " * sqlite://\n",
            "Done.\n",
            " * sqlite://\n",
            " * sqlite://\n",
            "Done.\n"
          ]
        },
        {
          "output_type": "execute_result",
          "data": {
            "text/html": [
              "<table>\n",
              "    <thead>\n",
              "        <tr>\n",
              "            <th>index</th>\n",
              "            <th>distance</th>\n",
              "            <th>cab_type</th>\n",
              "            <th>time_stamp</th>\n",
              "            <th>destination</th>\n",
              "            <th>source</th>\n",
              "            <th>price</th>\n",
              "            <th>surge_multiplier</th>\n",
              "            <th>id</th>\n",
              "            <th>product_id</th>\n",
              "            <th>name</th>\n",
              "        </tr>\n",
              "    </thead>\n",
              "    <tbody>\n",
              "        <tr>\n",
              "            <td>0</td>\n",
              "            <td>0.44</td>\n",
              "            <td>Lyft</td>\n",
              "            <td>1544952607890</td>\n",
              "            <td>North Station</td>\n",
              "            <td>Haymarket Square</td>\n",
              "            <td>5.0</td>\n",
              "            <td>1.0</td>\n",
              "            <td>424553bb-7174-41ea-aeb4-fe06d4f4b9d7</td>\n",
              "            <td>lyft_line</td>\n",
              "            <td>Shared</td>\n",
              "        </tr>\n",
              "        <tr>\n",
              "            <td>1</td>\n",
              "            <td>0.44</td>\n",
              "            <td>Lyft</td>\n",
              "            <td>1544952607890</td>\n",
              "            <td>North Station</td>\n",
              "            <td>Haymarket Square</td>\n",
              "            <td>11.0</td>\n",
              "            <td>1.0</td>\n",
              "            <td>4bd23055-6827-41c6-b23b-3c491f24e74d</td>\n",
              "            <td>lyft_premier</td>\n",
              "            <td>Lux</td>\n",
              "        </tr>\n",
              "        <tr>\n",
              "            <td>2</td>\n",
              "            <td>0.44</td>\n",
              "            <td>Lyft</td>\n",
              "            <td>1544952607890</td>\n",
              "            <td>North Station</td>\n",
              "            <td>Haymarket Square</td>\n",
              "            <td>7.0</td>\n",
              "            <td>1.0</td>\n",
              "            <td>981a3613-77af-4620-a42a-0c0866077d1e</td>\n",
              "            <td>lyft</td>\n",
              "            <td>Lyft</td>\n",
              "        </tr>\n",
              "        <tr>\n",
              "            <td>3</td>\n",
              "            <td>0.44</td>\n",
              "            <td>Lyft</td>\n",
              "            <td>1544952607890</td>\n",
              "            <td>North Station</td>\n",
              "            <td>Haymarket Square</td>\n",
              "            <td>26.0</td>\n",
              "            <td>1.0</td>\n",
              "            <td>c2d88af2-d278-4bfd-a8d0-29ca77cc5512</td>\n",
              "            <td>lyft_luxsuv</td>\n",
              "            <td>Lux Black XL</td>\n",
              "        </tr>\n",
              "        <tr>\n",
              "            <td>4</td>\n",
              "            <td>0.44</td>\n",
              "            <td>Lyft</td>\n",
              "            <td>1544952607890</td>\n",
              "            <td>North Station</td>\n",
              "            <td>Haymarket Square</td>\n",
              "            <td>9.0</td>\n",
              "            <td>1.0</td>\n",
              "            <td>e0126e1f-8ca9-4f2e-82b3-50505a09db9a</td>\n",
              "            <td>lyft_plus</td>\n",
              "            <td>Lyft XL</td>\n",
              "        </tr>\n",
              "        <tr>\n",
              "            <td>5</td>\n",
              "            <td>0.44</td>\n",
              "            <td>Lyft</td>\n",
              "            <td>1544952607890</td>\n",
              "            <td>North Station</td>\n",
              "            <td>Haymarket Square</td>\n",
              "            <td>16.5</td>\n",
              "            <td>1.0</td>\n",
              "            <td>f6f6d7e4-3e18-4922-a5f5-181cdd3fa6f2</td>\n",
              "            <td>lyft_lux</td>\n",
              "            <td>Lux Black</td>\n",
              "        </tr>\n",
              "        <tr>\n",
              "            <td>6</td>\n",
              "            <td>1.08</td>\n",
              "            <td>Lyft</td>\n",
              "            <td>1543284023677</td>\n",
              "            <td>Northeastern University</td>\n",
              "            <td>Back Bay</td>\n",
              "            <td>10.5</td>\n",
              "            <td>1.0</td>\n",
              "            <td>462816a3-820d-408b-8549-0b39e82f65ac</td>\n",
              "            <td>lyft_plus</td>\n",
              "            <td>Lyft XL</td>\n",
              "        </tr>\n",
              "        <tr>\n",
              "            <td>7</td>\n",
              "            <td>1.08</td>\n",
              "            <td>Lyft</td>\n",
              "            <td>1543284023677</td>\n",
              "            <td>Northeastern University</td>\n",
              "            <td>Back Bay</td>\n",
              "            <td>16.5</td>\n",
              "            <td>1.0</td>\n",
              "            <td>474d6376-bc59-4ec9-bf57-4e6d6faeb165</td>\n",
              "            <td>lyft_lux</td>\n",
              "            <td>Lux Black</td>\n",
              "        </tr>\n",
              "        <tr>\n",
              "            <td>8</td>\n",
              "            <td>1.08</td>\n",
              "            <td>Lyft</td>\n",
              "            <td>1543284023677</td>\n",
              "            <td>Northeastern University</td>\n",
              "            <td>Back Bay</td>\n",
              "            <td>3.0</td>\n",
              "            <td>1.0</td>\n",
              "            <td>4f9fee41-fde3-4767-bbf1-a00e108701fb</td>\n",
              "            <td>lyft_line</td>\n",
              "            <td>Shared</td>\n",
              "        </tr>\n",
              "        <tr>\n",
              "            <td>9</td>\n",
              "            <td>1.08</td>\n",
              "            <td>Lyft</td>\n",
              "            <td>1543284023677</td>\n",
              "            <td>Northeastern University</td>\n",
              "            <td>Back Bay</td>\n",
              "            <td>27.5</td>\n",
              "            <td>1.0</td>\n",
              "            <td>8612d909-98b8-4454-a093-30bd48de0cb3</td>\n",
              "            <td>lyft_luxsuv</td>\n",
              "            <td>Lux Black XL</td>\n",
              "        </tr>\n",
              "        <tr>\n",
              "            <td>10</td>\n",
              "            <td>1.08</td>\n",
              "            <td>Lyft</td>\n",
              "            <td>1543284023677</td>\n",
              "            <td>Northeastern University</td>\n",
              "            <td>Back Bay</td>\n",
              "            <td>13.5</td>\n",
              "            <td>1.0</td>\n",
              "            <td>9043bf77-1d45-4a93-9520-a083e0277f16</td>\n",
              "            <td>lyft_premier</td>\n",
              "            <td>Lux</td>\n",
              "        </tr>\n",
              "        <tr>\n",
              "            <td>11</td>\n",
              "            <td>1.08</td>\n",
              "            <td>Lyft</td>\n",
              "            <td>1543284023677</td>\n",
              "            <td>Northeastern University</td>\n",
              "            <td>Back Bay</td>\n",
              "            <td>7.0</td>\n",
              "            <td>1.0</td>\n",
              "            <td>d859ec69-b3ff-4af8-9abd-441e31430c94</td>\n",
              "            <td>lyft</td>\n",
              "            <td>Lyft</td>\n",
              "        </tr>\n",
              "        <tr>\n",
              "            <td>12</td>\n",
              "            <td>1.11</td>\n",
              "            <td>Uber</td>\n",
              "            <td>1543366822198</td>\n",
              "            <td>West End</td>\n",
              "            <td>North End</td>\n",
              "            <td>12.0</td>\n",
              "            <td>1.0</td>\n",
              "            <td>009e9c53-074d-43cf-aef2-0fbc7a47ed3d</td>\n",
              "            <td>6f72dfc5-27f1-42e8-84db-ccc7a75f6969</td>\n",
              "            <td>UberXL</td>\n",
              "        </tr>\n",
              "        <tr>\n",
              "            <td>13</td>\n",
              "            <td>1.11</td>\n",
              "            <td>Uber</td>\n",
              "            <td>1543366822198</td>\n",
              "            <td>West End</td>\n",
              "            <td>North End</td>\n",
              "            <td>16.0</td>\n",
              "            <td>1.0</td>\n",
              "            <td>23f145da-f0c1-4d1f-a184-496bc003a7db</td>\n",
              "            <td>6c84fd89-3f11-4782-9b50-97c468b19529</td>\n",
              "            <td>Black</td>\n",
              "        </tr>\n",
              "        <tr>\n",
              "            <td>14</td>\n",
              "            <td>1.11</td>\n",
              "            <td>Uber</td>\n",
              "            <td>1543366822198</td>\n",
              "            <td>West End</td>\n",
              "            <td>North End</td>\n",
              "            <td>7.5</td>\n",
              "            <td>1.0</td>\n",
              "            <td>357559cb-8c58-4278-a41a-e33b2e0997a3</td>\n",
              "            <td>55c66225-fbe7-4fd5-9072-eab1ece5e23e</td>\n",
              "            <td>UberX</td>\n",
              "        </tr>\n",
              "        <tr>\n",
              "            <td>15</td>\n",
              "            <td>1.11</td>\n",
              "            <td>Uber</td>\n",
              "            <td>1543366822198</td>\n",
              "            <td>West End</td>\n",
              "            <td>North End</td>\n",
              "            <td>7.5</td>\n",
              "            <td>1.0</td>\n",
              "            <td>50ef1165-9d23-416c-a65c-18906207b295</td>\n",
              "            <td>9a0e7b09-b92b-4c41-9779-2ad22b4d779d</td>\n",
              "            <td>WAV</td>\n",
              "        </tr>\n",
              "        <tr>\n",
              "            <td>16</td>\n",
              "            <td>1.11</td>\n",
              "            <td>Uber</td>\n",
              "            <td>1543366822198</td>\n",
              "            <td>West End</td>\n",
              "            <td>North End</td>\n",
              "            <td>26.0</td>\n",
              "            <td>1.0</td>\n",
              "            <td>91c4861c-1780-42b0-bca1-bbd64a422cc3</td>\n",
              "            <td>6d318bcc-22a3-4af6-bddd-b409bfce1546</td>\n",
              "            <td>Black SUV</td>\n",
              "        </tr>\n",
              "        <tr>\n",
              "            <td>17</td>\n",
              "            <td>1.11</td>\n",
              "            <td>Uber</td>\n",
              "            <td>1543366822198</td>\n",
              "            <td>West End</td>\n",
              "            <td>North End</td>\n",
              "            <td>5.5</td>\n",
              "            <td>1.0</td>\n",
              "            <td>e219e545-a006-4936-a6cc-7d00adf0e418</td>\n",
              "            <td>997acbb5-e102-41e1-b155-9df7de0a73f2</td>\n",
              "            <td>UberPool</td>\n",
              "        </tr>\n",
              "        <tr>\n",
              "            <td>18</td>\n",
              "            <td>1.11</td>\n",
              "            <td>Uber</td>\n",
              "            <td>1543366822198</td>\n",
              "            <td>West End</td>\n",
              "            <td>North End</td>\n",
              "            <td>None</td>\n",
              "            <td>1.0</td>\n",
              "            <td>fa5fb705-03a0-4eb9-82d9-7fe80872f754</td>\n",
              "            <td>8cf7e821-f0d3-49c6-8eba-e679c0ebcf6a</td>\n",
              "            <td>Taxi</td>\n",
              "        </tr>\n",
              "        <tr>\n",
              "            <td>19</td>\n",
              "            <td>0.72</td>\n",
              "            <td>Lyft</td>\n",
              "            <td>1543553582749</td>\n",
              "            <td>Haymarket Square</td>\n",
              "            <td>North Station</td>\n",
              "            <td>11.0</td>\n",
              "            <td>1.0</td>\n",
              "            <td>18d580ac-c91a-4b6d-aa75-ab62566f713e</td>\n",
              "            <td>lyft_plus</td>\n",
              "            <td>Lyft XL</td>\n",
              "        </tr>\n",
              "    </tbody>\n",
              "</table>"
            ],
            "text/plain": [
              "[(0, 0.44, 'Lyft', 1544952607890, 'North Station', 'Haymarket Square', 5.0, 1.0, '424553bb-7174-41ea-aeb4-fe06d4f4b9d7', 'lyft_line', 'Shared'),\n",
              " (1, 0.44, 'Lyft', 1544952607890, 'North Station', 'Haymarket Square', 11.0, 1.0, '4bd23055-6827-41c6-b23b-3c491f24e74d', 'lyft_premier', 'Lux'),\n",
              " (2, 0.44, 'Lyft', 1544952607890, 'North Station', 'Haymarket Square', 7.0, 1.0, '981a3613-77af-4620-a42a-0c0866077d1e', 'lyft', 'Lyft'),\n",
              " (3, 0.44, 'Lyft', 1544952607890, 'North Station', 'Haymarket Square', 26.0, 1.0, 'c2d88af2-d278-4bfd-a8d0-29ca77cc5512', 'lyft_luxsuv', 'Lux Black XL'),\n",
              " (4, 0.44, 'Lyft', 1544952607890, 'North Station', 'Haymarket Square', 9.0, 1.0, 'e0126e1f-8ca9-4f2e-82b3-50505a09db9a', 'lyft_plus', 'Lyft XL'),\n",
              " (5, 0.44, 'Lyft', 1544952607890, 'North Station', 'Haymarket Square', 16.5, 1.0, 'f6f6d7e4-3e18-4922-a5f5-181cdd3fa6f2', 'lyft_lux', 'Lux Black'),\n",
              " (6, 1.08, 'Lyft', 1543284023677, 'Northeastern University', 'Back Bay', 10.5, 1.0, '462816a3-820d-408b-8549-0b39e82f65ac', 'lyft_plus', 'Lyft XL'),\n",
              " (7, 1.08, 'Lyft', 1543284023677, 'Northeastern University', 'Back Bay', 16.5, 1.0, '474d6376-bc59-4ec9-bf57-4e6d6faeb165', 'lyft_lux', 'Lux Black'),\n",
              " (8, 1.08, 'Lyft', 1543284023677, 'Northeastern University', 'Back Bay', 3.0, 1.0, '4f9fee41-fde3-4767-bbf1-a00e108701fb', 'lyft_line', 'Shared'),\n",
              " (9, 1.08, 'Lyft', 1543284023677, 'Northeastern University', 'Back Bay', 27.5, 1.0, '8612d909-98b8-4454-a093-30bd48de0cb3', 'lyft_luxsuv', 'Lux Black XL'),\n",
              " (10, 1.08, 'Lyft', 1543284023677, 'Northeastern University', 'Back Bay', 13.5, 1.0, '9043bf77-1d45-4a93-9520-a083e0277f16', 'lyft_premier', 'Lux'),\n",
              " (11, 1.08, 'Lyft', 1543284023677, 'Northeastern University', 'Back Bay', 7.0, 1.0, 'd859ec69-b3ff-4af8-9abd-441e31430c94', 'lyft', 'Lyft'),\n",
              " (12, 1.11, 'Uber', 1543366822198, 'West End', 'North End', 12.0, 1.0, '009e9c53-074d-43cf-aef2-0fbc7a47ed3d', '6f72dfc5-27f1-42e8-84db-ccc7a75f6969', 'UberXL'),\n",
              " (13, 1.11, 'Uber', 1543366822198, 'West End', 'North End', 16.0, 1.0, '23f145da-f0c1-4d1f-a184-496bc003a7db', '6c84fd89-3f11-4782-9b50-97c468b19529', 'Black'),\n",
              " (14, 1.11, 'Uber', 1543366822198, 'West End', 'North End', 7.5, 1.0, '357559cb-8c58-4278-a41a-e33b2e0997a3', '55c66225-fbe7-4fd5-9072-eab1ece5e23e', 'UberX'),\n",
              " (15, 1.11, 'Uber', 1543366822198, 'West End', 'North End', 7.5, 1.0, '50ef1165-9d23-416c-a65c-18906207b295', '9a0e7b09-b92b-4c41-9779-2ad22b4d779d', 'WAV'),\n",
              " (16, 1.11, 'Uber', 1543366822198, 'West End', 'North End', 26.0, 1.0, '91c4861c-1780-42b0-bca1-bbd64a422cc3', '6d318bcc-22a3-4af6-bddd-b409bfce1546', 'Black SUV'),\n",
              " (17, 1.11, 'Uber', 1543366822198, 'West End', 'North End', 5.5, 1.0, 'e219e545-a006-4936-a6cc-7d00adf0e418', '997acbb5-e102-41e1-b155-9df7de0a73f2', 'UberPool'),\n",
              " (18, 1.11, 'Uber', 1543366822198, 'West End', 'North End', None, 1.0, 'fa5fb705-03a0-4eb9-82d9-7fe80872f754', '8cf7e821-f0d3-49c6-8eba-e679c0ebcf6a', 'Taxi'),\n",
              " (19, 0.72, 'Lyft', 1543553582749, 'Haymarket Square', 'North Station', 11.0, 1.0, '18d580ac-c91a-4b6d-aa75-ab62566f713e', 'lyft_plus', 'Lyft XL')]"
            ]
          },
          "metadata": {},
          "execution_count": 16
        }
      ]
    },
    {
      "cell_type": "code",
      "source": [
        "%sql DROP TABLE if EXISTS weather;\n",
        "\n",
        "%sql PERSIST weather;\n",
        "\n",
        "%sql SELECT * FROM weather LIMIT 5;"
      ],
      "metadata": {
        "colab": {
          "base_uri": "https://localhost:8080/",
          "height": 231
        },
        "id": "KbXxbgOLx6-R",
        "outputId": "f2d00fc6-bf60-44b7-8a4d-11b8dba98d3a"
      },
      "execution_count": 17,
      "outputs": [
        {
          "output_type": "stream",
          "name": "stdout",
          "text": [
            " * sqlite://\n",
            "Done.\n",
            " * sqlite://\n",
            " * sqlite://\n",
            "Done.\n"
          ]
        },
        {
          "output_type": "execute_result",
          "data": {
            "text/html": [
              "<table>\n",
              "    <thead>\n",
              "        <tr>\n",
              "            <th>index</th>\n",
              "            <th>temp</th>\n",
              "            <th>location</th>\n",
              "            <th>clouds</th>\n",
              "            <th>pressure</th>\n",
              "            <th>rain</th>\n",
              "            <th>time_stamp</th>\n",
              "            <th>humidity</th>\n",
              "            <th>wind</th>\n",
              "        </tr>\n",
              "    </thead>\n",
              "    <tbody>\n",
              "        <tr>\n",
              "            <td>0</td>\n",
              "            <td>42.42</td>\n",
              "            <td>Back Bay</td>\n",
              "            <td>1.0</td>\n",
              "            <td>1012.14</td>\n",
              "            <td>0.1228</td>\n",
              "            <td>1545003901</td>\n",
              "            <td>0.77</td>\n",
              "            <td>11.25</td>\n",
              "        </tr>\n",
              "        <tr>\n",
              "            <td>1</td>\n",
              "            <td>42.43</td>\n",
              "            <td>Beacon Hill</td>\n",
              "            <td>1.0</td>\n",
              "            <td>1012.15</td>\n",
              "            <td>0.1846</td>\n",
              "            <td>1545003901</td>\n",
              "            <td>0.76</td>\n",
              "            <td>11.32</td>\n",
              "        </tr>\n",
              "        <tr>\n",
              "            <td>2</td>\n",
              "            <td>42.5</td>\n",
              "            <td>Boston University</td>\n",
              "            <td>1.0</td>\n",
              "            <td>1012.15</td>\n",
              "            <td>0.1089</td>\n",
              "            <td>1545003901</td>\n",
              "            <td>0.76</td>\n",
              "            <td>11.07</td>\n",
              "        </tr>\n",
              "        <tr>\n",
              "            <td>3</td>\n",
              "            <td>42.11</td>\n",
              "            <td>Fenway</td>\n",
              "            <td>1.0</td>\n",
              "            <td>1012.13</td>\n",
              "            <td>0.0969</td>\n",
              "            <td>1545003901</td>\n",
              "            <td>0.77</td>\n",
              "            <td>11.09</td>\n",
              "        </tr>\n",
              "        <tr>\n",
              "            <td>4</td>\n",
              "            <td>43.13</td>\n",
              "            <td>Financial District</td>\n",
              "            <td>1.0</td>\n",
              "            <td>1012.14</td>\n",
              "            <td>0.1786</td>\n",
              "            <td>1545003901</td>\n",
              "            <td>0.75</td>\n",
              "            <td>11.49</td>\n",
              "        </tr>\n",
              "    </tbody>\n",
              "</table>"
            ],
            "text/plain": [
              "[(0, 42.42, 'Back Bay', 1.0, 1012.14, 0.1228, 1545003901, 0.77, 11.25),\n",
              " (1, 42.43, 'Beacon Hill', 1.0, 1012.15, 0.1846, 1545003901, 0.76, 11.32),\n",
              " (2, 42.5, 'Boston University', 1.0, 1012.15, 0.1089, 1545003901, 0.76, 11.07),\n",
              " (3, 42.11, 'Fenway', 1.0, 1012.13, 0.0969, 1545003901, 0.77, 11.09),\n",
              " (4, 43.13, 'Financial District', 1.0, 1012.14, 0.1786, 1545003901, 0.75, 11.49)]"
            ]
          },
          "metadata": {},
          "execution_count": 17
        }
      ]
    },
    {
      "cell_type": "code",
      "source": [
        "#Checking no of rides per cab_type\n",
        "\n",
        "%%sql \n",
        "select\n",
        "cab_type,count(*) no_of_rides,round(avg(distance),2) avg_distance from rides a\n",
        "group by cab_type\n",
        "\n",
        "#Both Lyft and Uber have the same average distance covered in the rides, with Uber having 55.6% of the market share compared to Lfyt's 44.4%"
      ],
      "metadata": {
        "colab": {
          "base_uri": "https://localhost:8080/"
        },
        "id": "hcjazOAVzQoJ",
        "outputId": "4695cc86-7351-4bf9-e360-333891674c5c"
      },
      "execution_count": 66,
      "outputs": [
        {
          "output_type": "stream",
          "name": "stdout",
          "text": [
            " * sqlite://\n",
            "(sqlite3.OperationalError) near \"#Both\": syntax error\n",
            "[SQL: select\n",
            "cab_type,count(*) no_of_rides,round(avg(distance),2) avg_distance from rides a\n",
            "group by cab_type\n",
            "\n",
            "#Both Lyft and Uber have the same average distance covered in the rides, with Uber having 55.6% of the market share compared to Lfyt's 44.4%]\n",
            "(Background on this error at: https://sqlalche.me/e/14/e3q8)\n"
          ]
        }
      ]
    },
    {
      "cell_type": "code",
      "source": [
        "# Checking source distribution for Uber\n",
        "%%sql \n",
        "select\n",
        "source,\n",
        "count(*) no_of_rides from rides a\n",
        "where cab_type='Uber'\n",
        "group by source\n",
        "order by 2 desc"
      ],
      "metadata": {
        "colab": {
          "base_uri": "https://localhost:8080/",
          "height": 326
        },
        "id": "sv2qMm1yNKhj",
        "outputId": "b5b4300d-9338-48b2-fa04-36a3c2ac7c65"
      },
      "execution_count": 85,
      "outputs": [
        {
          "output_type": "stream",
          "name": "stdout",
          "text": [
            " * sqlite://\n",
            "Done.\n"
          ]
        },
        {
          "output_type": "execute_result",
          "data": {
            "text/html": [
              "<table>\n",
              "    <thead>\n",
              "        <tr>\n",
              "            <th>source</th>\n",
              "            <th>no_of_rides</th>\n",
              "        </tr>\n",
              "    </thead>\n",
              "    <tbody>\n",
              "        <tr>\n",
              "            <td>Financial District</td>\n",
              "            <td>32620</td>\n",
              "        </tr>\n",
              "        <tr>\n",
              "            <td>Theatre District</td>\n",
              "            <td>32283</td>\n",
              "        </tr>\n",
              "        <tr>\n",
              "            <td>Boston University</td>\n",
              "            <td>32144</td>\n",
              "        </tr>\n",
              "        <tr>\n",
              "            <td>North End</td>\n",
              "            <td>32143</td>\n",
              "        </tr>\n",
              "        <tr>\n",
              "            <td>Northeastern University</td>\n",
              "            <td>32142</td>\n",
              "        </tr>\n",
              "        <tr>\n",
              "            <td>Back Bay</td>\n",
              "            <td>32137</td>\n",
              "        </tr>\n",
              "        <tr>\n",
              "            <td>Fenway</td>\n",
              "            <td>32137</td>\n",
              "        </tr>\n",
              "        <tr>\n",
              "            <td>South Station</td>\n",
              "            <td>32130</td>\n",
              "        </tr>\n",
              "        <tr>\n",
              "            <td>Haymarket Square</td>\n",
              "            <td>32122</td>\n",
              "        </tr>\n",
              "        <tr>\n",
              "            <td>West End</td>\n",
              "            <td>32074</td>\n",
              "        </tr>\n",
              "        <tr>\n",
              "            <td>Beacon Hill</td>\n",
              "            <td>31939</td>\n",
              "        </tr>\n",
              "        <tr>\n",
              "            <td>North Station</td>\n",
              "            <td>31792</td>\n",
              "        </tr>\n",
              "    </tbody>\n",
              "</table>"
            ],
            "text/plain": [
              "[('Financial District', 32620),\n",
              " ('Theatre District', 32283),\n",
              " ('Boston University', 32144),\n",
              " ('North End', 32143),\n",
              " ('Northeastern University', 32142),\n",
              " ('Back Bay', 32137),\n",
              " ('Fenway', 32137),\n",
              " ('South Station', 32130),\n",
              " ('Haymarket Square', 32122),\n",
              " ('West End', 32074),\n",
              " ('Beacon Hill', 31939),\n",
              " ('North Station', 31792)]"
            ]
          },
          "metadata": {},
          "execution_count": 85
        }
      ]
    },
    {
      "cell_type": "code",
      "source": [
        "# Checking source distribution for Lyft\n",
        "%%sql \n",
        "select\n",
        "source,\n",
        "count(*) no_of_rides from rides a\n",
        "where cab_type='Lyft'\n",
        "group by source\n",
        "order by 2 desc"
      ],
      "metadata": {
        "colab": {
          "base_uri": "https://localhost:8080/",
          "height": 326
        },
        "id": "hJOo78_gOEop",
        "outputId": "c25687aa-6604-4bc1-936e-61cec3341a79"
      },
      "execution_count": 86,
      "outputs": [
        {
          "output_type": "stream",
          "name": "stdout",
          "text": [
            " * sqlite://\n",
            "Done.\n"
          ]
        },
        {
          "output_type": "execute_result",
          "data": {
            "text/html": [
              "<table>\n",
              "    <thead>\n",
              "        <tr>\n",
              "            <th>source</th>\n",
              "            <th>no_of_rides</th>\n",
              "        </tr>\n",
              "    </thead>\n",
              "    <tbody>\n",
              "        <tr>\n",
              "            <td>Financial District</td>\n",
              "            <td>26237</td>\n",
              "        </tr>\n",
              "        <tr>\n",
              "            <td>Back Bay</td>\n",
              "            <td>25655</td>\n",
              "        </tr>\n",
              "        <tr>\n",
              "            <td>Boston University</td>\n",
              "            <td>25620</td>\n",
              "        </tr>\n",
              "        <tr>\n",
              "            <td>Fenway</td>\n",
              "            <td>25620</td>\n",
              "        </tr>\n",
              "        <tr>\n",
              "            <td>North End</td>\n",
              "            <td>25620</td>\n",
              "        </tr>\n",
              "        <tr>\n",
              "            <td>South Station</td>\n",
              "            <td>25620</td>\n",
              "        </tr>\n",
              "        <tr>\n",
              "            <td>Haymarket Square</td>\n",
              "            <td>25614</td>\n",
              "        </tr>\n",
              "        <tr>\n",
              "            <td>Northeastern University</td>\n",
              "            <td>25614</td>\n",
              "        </tr>\n",
              "        <tr>\n",
              "            <td>Theatre District</td>\n",
              "            <td>25530</td>\n",
              "        </tr>\n",
              "        <tr>\n",
              "            <td>West End</td>\n",
              "            <td>25488</td>\n",
              "        </tr>\n",
              "        <tr>\n",
              "            <td>Beacon Hill</td>\n",
              "            <td>25464</td>\n",
              "        </tr>\n",
              "        <tr>\n",
              "            <td>North Station</td>\n",
              "            <td>25326</td>\n",
              "        </tr>\n",
              "    </tbody>\n",
              "</table>"
            ],
            "text/plain": [
              "[('Financial District', 26237),\n",
              " ('Back Bay', 25655),\n",
              " ('Boston University', 25620),\n",
              " ('Fenway', 25620),\n",
              " ('North End', 25620),\n",
              " ('South Station', 25620),\n",
              " ('Haymarket Square', 25614),\n",
              " ('Northeastern University', 25614),\n",
              " ('Theatre District', 25530),\n",
              " ('West End', 25488),\n",
              " ('Beacon Hill', 25464),\n",
              " ('North Station', 25326)]"
            ]
          },
          "metadata": {},
          "execution_count": 86
        }
      ]
    },
    {
      "cell_type": "code",
      "source": [
        "# Checking destination distribution for all cab types\n",
        "%%sql \n",
        "select\n",
        "destination,\n",
        "count(*) no_of_rides from rides a\n",
        "group by destination\n",
        "order by 2 desc"
      ],
      "metadata": {
        "colab": {
          "base_uri": "https://localhost:8080/",
          "height": 326
        },
        "id": "CBn6gzmtOKLL",
        "outputId": "2dd4bcbb-069e-404f-c59f-7520db8261b9"
      },
      "execution_count": 87,
      "outputs": [
        {
          "output_type": "stream",
          "name": "stdout",
          "text": [
            " * sqlite://\n",
            "Done.\n"
          ]
        },
        {
          "output_type": "execute_result",
          "data": {
            "text/html": [
              "<table>\n",
              "    <thead>\n",
              "        <tr>\n",
              "            <th>destination</th>\n",
              "            <th>no_of_rides</th>\n",
              "        </tr>\n",
              "    </thead>\n",
              "    <tbody>\n",
              "        <tr>\n",
              "            <td>Financial District</td>\n",
              "            <td>58851</td>\n",
              "        </tr>\n",
              "        <tr>\n",
              "            <td>Theatre District</td>\n",
              "            <td>57798</td>\n",
              "        </tr>\n",
              "        <tr>\n",
              "            <td>Back Bay</td>\n",
              "            <td>57780</td>\n",
              "        </tr>\n",
              "        <tr>\n",
              "            <td>Boston University</td>\n",
              "            <td>57764</td>\n",
              "        </tr>\n",
              "        <tr>\n",
              "            <td>Haymarket Square</td>\n",
              "            <td>57764</td>\n",
              "        </tr>\n",
              "        <tr>\n",
              "            <td>Fenway</td>\n",
              "            <td>57757</td>\n",
              "        </tr>\n",
              "        <tr>\n",
              "            <td>North End</td>\n",
              "            <td>57756</td>\n",
              "        </tr>\n",
              "        <tr>\n",
              "            <td>Northeastern University</td>\n",
              "            <td>57755</td>\n",
              "        </tr>\n",
              "        <tr>\n",
              "            <td>South Station</td>\n",
              "            <td>57749</td>\n",
              "        </tr>\n",
              "        <tr>\n",
              "            <td>West End</td>\n",
              "            <td>57575</td>\n",
              "        </tr>\n",
              "        <tr>\n",
              "            <td>Beacon Hill</td>\n",
              "            <td>57403</td>\n",
              "        </tr>\n",
              "        <tr>\n",
              "            <td>North Station</td>\n",
              "            <td>57119</td>\n",
              "        </tr>\n",
              "    </tbody>\n",
              "</table>"
            ],
            "text/plain": [
              "[('Financial District', 58851),\n",
              " ('Theatre District', 57798),\n",
              " ('Back Bay', 57780),\n",
              " ('Boston University', 57764),\n",
              " ('Haymarket Square', 57764),\n",
              " ('Fenway', 57757),\n",
              " ('North End', 57756),\n",
              " ('Northeastern University', 57755),\n",
              " ('South Station', 57749),\n",
              " ('West End', 57575),\n",
              " ('Beacon Hill', 57403),\n",
              " ('North Station', 57119)]"
            ]
          },
          "metadata": {},
          "execution_count": 87
        }
      ]
    },
    {
      "cell_type": "code",
      "source": [
        "#Checking no of rides by hour\n",
        "\n",
        "%%sql \n",
        "select\n",
        "cast(strftime('%H',datetime(cast(time_stamp/1000 as integer), 'unixepoch')) as integer) hour,\n",
        "count(*) no_of_rides from rides a\n",
        "group by cast(strftime('%H',datetime(cast(time_stamp/1000 as integer), 'unixepoch')) as integer)\n",
        "order by hour\n",
        "\n",
        "-- Demand for rides is fairly balanced across all hours with slight surge over business hours, commute and late night. "
      ],
      "metadata": {
        "colab": {
          "base_uri": "https://localhost:8080/",
          "height": 577
        },
        "id": "m_fAmhAwHMNL",
        "outputId": "f2fca951-4c50-4530-b56d-c49b83eae35e"
      },
      "execution_count": 75,
      "outputs": [
        {
          "output_type": "stream",
          "name": "stdout",
          "text": [
            " * sqlite://\n",
            "Done.\n"
          ]
        },
        {
          "output_type": "execute_result",
          "data": {
            "text/html": [
              "<table>\n",
              "    <thead>\n",
              "        <tr>\n",
              "            <th>hour</th>\n",
              "            <th>no_of_rides</th>\n",
              "        </tr>\n",
              "    </thead>\n",
              "    <tbody>\n",
              "        <tr>\n",
              "            <td>0</td>\n",
              "            <td>32413</td>\n",
              "        </tr>\n",
              "        <tr>\n",
              "            <td>1</td>\n",
              "            <td>28548</td>\n",
              "        </tr>\n",
              "        <tr>\n",
              "            <td>2</td>\n",
              "            <td>28548</td>\n",
              "        </tr>\n",
              "        <tr>\n",
              "            <td>3</td>\n",
              "            <td>27815</td>\n",
              "        </tr>\n",
              "        <tr>\n",
              "            <td>4</td>\n",
              "            <td>28330</td>\n",
              "        </tr>\n",
              "        <tr>\n",
              "            <td>5</td>\n",
              "            <td>25008</td>\n",
              "        </tr>\n",
              "        <tr>\n",
              "            <td>6</td>\n",
              "            <td>27336</td>\n",
              "        </tr>\n",
              "        <tr>\n",
              "            <td>7</td>\n",
              "            <td>24936</td>\n",
              "        </tr>\n",
              "        <tr>\n",
              "            <td>8</td>\n",
              "            <td>24275</td>\n",
              "        </tr>\n",
              "        <tr>\n",
              "            <td>9</td>\n",
              "            <td>28971</td>\n",
              "        </tr>\n",
              "        <tr>\n",
              "            <td>10</td>\n",
              "            <td>30384</td>\n",
              "        </tr>\n",
              "        <tr>\n",
              "            <td>11</td>\n",
              "            <td>30384</td>\n",
              "        </tr>\n",
              "        <tr>\n",
              "            <td>12</td>\n",
              "            <td>30384</td>\n",
              "        </tr>\n",
              "        <tr>\n",
              "            <td>13</td>\n",
              "            <td>30384</td>\n",
              "        </tr>\n",
              "        <tr>\n",
              "            <td>14</td>\n",
              "            <td>30384</td>\n",
              "        </tr>\n",
              "        <tr>\n",
              "            <td>15</td>\n",
              "            <td>30383</td>\n",
              "        </tr>\n",
              "        <tr>\n",
              "            <td>16</td>\n",
              "            <td>30384</td>\n",
              "        </tr>\n",
              "        <tr>\n",
              "            <td>17</td>\n",
              "            <td>30384</td>\n",
              "        </tr>\n",
              "        <tr>\n",
              "            <td>18</td>\n",
              "            <td>30384</td>\n",
              "        </tr>\n",
              "        <tr>\n",
              "            <td>19</td>\n",
              "            <td>27555</td>\n",
              "        </tr>\n",
              "        <tr>\n",
              "            <td>20</td>\n",
              "            <td>26782</td>\n",
              "        </tr>\n",
              "        <tr>\n",
              "            <td>21</td>\n",
              "            <td>27732</td>\n",
              "        </tr>\n",
              "        <tr>\n",
              "            <td>22</td>\n",
              "            <td>29436</td>\n",
              "        </tr>\n",
              "        <tr>\n",
              "            <td>23</td>\n",
              "            <td>31931</td>\n",
              "        </tr>\n",
              "    </tbody>\n",
              "</table>"
            ],
            "text/plain": [
              "[(0, 32413),\n",
              " (1, 28548),\n",
              " (2, 28548),\n",
              " (3, 27815),\n",
              " (4, 28330),\n",
              " (5, 25008),\n",
              " (6, 27336),\n",
              " (7, 24936),\n",
              " (8, 24275),\n",
              " (9, 28971),\n",
              " (10, 30384),\n",
              " (11, 30384),\n",
              " (12, 30384),\n",
              " (13, 30384),\n",
              " (14, 30384),\n",
              " (15, 30383),\n",
              " (16, 30384),\n",
              " (17, 30384),\n",
              " (18, 30384),\n",
              " (19, 27555),\n",
              " (20, 26782),\n",
              " (21, 27732),\n",
              " (22, 29436),\n",
              " (23, 31931)]"
            ]
          },
          "metadata": {},
          "execution_count": 75
        }
      ]
    },
    {
      "cell_type": "code",
      "source": [
        "#Checking distribution of rides demand across days of the week (Sunday - Saturday)\n",
        "\n",
        "%%sql \n",
        "select\n",
        "strftime('%w',datetime(cast(time_stamp/1000 as integer), 'unixepoch')) week_day,\n",
        "count(*) no_of_rides from rides a\n",
        "group by strftime('%w',datetime(cast(time_stamp/1000 as integer), 'unixepoch'))\n",
        "order by no_of_rides desc\n",
        "\n",
        "--Tuesday and Monday have the highest demand for rides and Wednesday the least."
      ],
      "metadata": {
        "colab": {
          "base_uri": "https://localhost:8080/",
          "height": 221
        },
        "id": "UWh5_YjWKFl9",
        "outputId": "916c0c93-1054-4261-d3ea-130802d9f6a3"
      },
      "execution_count": 89,
      "outputs": [
        {
          "output_type": "stream",
          "name": "stdout",
          "text": [
            " * sqlite://\n",
            "Done.\n"
          ]
        },
        {
          "output_type": "execute_result",
          "data": {
            "text/html": [
              "<table>\n",
              "    <thead>\n",
              "        <tr>\n",
              "            <th>week_day</th>\n",
              "            <th>no_of_rides</th>\n",
              "        </tr>\n",
              "    </thead>\n",
              "    <tbody>\n",
              "        <tr>\n",
              "            <td>2</td>\n",
              "            <td>124949</td>\n",
              "        </tr>\n",
              "        <tr>\n",
              "            <td>1</td>\n",
              "            <td>124216</td>\n",
              "        </tr>\n",
              "        <tr>\n",
              "            <td>4</td>\n",
              "            <td>98505</td>\n",
              "        </tr>\n",
              "        <tr>\n",
              "            <td>0</td>\n",
              "            <td>91530</td>\n",
              "        </tr>\n",
              "        <tr>\n",
              "            <td>6</td>\n",
              "            <td>90168</td>\n",
              "        </tr>\n",
              "        <tr>\n",
              "            <td>5</td>\n",
              "            <td>90012</td>\n",
              "        </tr>\n",
              "        <tr>\n",
              "            <td>3</td>\n",
              "            <td>73691</td>\n",
              "        </tr>\n",
              "    </tbody>\n",
              "</table>"
            ],
            "text/plain": [
              "[('2', 124949),\n",
              " ('1', 124216),\n",
              " ('4', 98505),\n",
              " ('0', 91530),\n",
              " ('6', 90168),\n",
              " ('5', 90012),\n",
              " ('3', 73691)]"
            ]
          },
          "metadata": {},
          "execution_count": 89
        }
      ]
    },
    {
      "cell_type": "markdown",
      "source": [
        ""
      ],
      "metadata": {
        "id": "sgrN3bJ3HHgW"
      }
    },
    {
      "cell_type": "code",
      "source": [
        "%%sql \n",
        "select\n",
        "a.name,\n",
        "count(*) no_of_rides from rides a\n",
        "where cab_type=\"Uber\"\n",
        "group by a.name\n",
        "order by 2 desc"
      ],
      "metadata": {
        "colab": {
          "base_uri": "https://localhost:8080/",
          "height": 221
        },
        "id": "qoFONhog4VIa",
        "outputId": "365ffddb-40d4-4720-b61f-bd1fb6e6a8a3"
      },
      "execution_count": 82,
      "outputs": [
        {
          "output_type": "stream",
          "name": "stdout",
          "text": [
            " * sqlite://\n",
            "Done.\n"
          ]
        },
        {
          "output_type": "execute_result",
          "data": {
            "text/html": [
              "<table>\n",
              "    <thead>\n",
              "        <tr>\n",
              "            <th>name</th>\n",
              "            <th>no_of_rides</th>\n",
              "        </tr>\n",
              "    </thead>\n",
              "    <tbody>\n",
              "        <tr>\n",
              "            <td>Black SUV</td>\n",
              "            <td>55096</td>\n",
              "        </tr>\n",
              "        <tr>\n",
              "            <td>UberXL</td>\n",
              "            <td>55096</td>\n",
              "        </tr>\n",
              "        <tr>\n",
              "            <td>WAV</td>\n",
              "            <td>55096</td>\n",
              "        </tr>\n",
              "        <tr>\n",
              "            <td>Black</td>\n",
              "            <td>55095</td>\n",
              "        </tr>\n",
              "        <tr>\n",
              "            <td>Taxi</td>\n",
              "            <td>55095</td>\n",
              "        </tr>\n",
              "        <tr>\n",
              "            <td>UberX</td>\n",
              "            <td>55094</td>\n",
              "        </tr>\n",
              "        <tr>\n",
              "            <td>UberPool</td>\n",
              "            <td>55091</td>\n",
              "        </tr>\n",
              "    </tbody>\n",
              "</table>"
            ],
            "text/plain": [
              "[('Black SUV', 55096),\n",
              " ('UberXL', 55096),\n",
              " ('WAV', 55096),\n",
              " ('Black', 55095),\n",
              " ('Taxi', 55095),\n",
              " ('UberX', 55094),\n",
              " ('UberPool', 55091)]"
            ]
          },
          "metadata": {},
          "execution_count": 82
        }
      ]
    }
  ]
}